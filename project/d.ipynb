{
 "cells": [
  {
   "cell_type": "code",
   "execution_count": 1,
   "id": "d86d4202-9ee9-4b91-971a-557a3f253ff2",
   "metadata": {},
   "outputs": [
    {
     "name": "stdout",
     "output_type": "stream",
     "text": [
      "Acer palmatum, commonly known as Japanese maple, palmate maple, or smooth Japanese maple (Japanese: irohamomiji, イロハモミジ, or momiji, (栴), is a species of woody plant native to Japan, Korea, China, eastern Mongolia, and southeast Russia.\n"
     ]
    }
   ],
   "source": [
    "\n",
    "# importing the module\n",
    "import wikipedia\n",
    " \n",
    "# finding result for the search\n",
    "# sentences = 2 refers to numbers of line\n",
    "result = wikipedia.summary(\"Japanese maple\", sentences = 1)\n",
    " \n",
    "# printing the result\n",
    "print(result)\n",
    "\n",
    "import pyttsx3\n",
    "engine = pyttsx3.init()\n",
    "voices = engine.getProperty('voices')\n",
    "engine.setProperty('voice', voices[1].id) #changing index changes voices but ony 0 and 1 are working here\n",
    "engine.say(result)\n",
    "engine.runAndWait()"
   ]
  },
  {
   "cell_type": "code",
   "execution_count": null,
   "id": "97a87240-f446-4076-9f4c-3d01c754cd75",
   "metadata": {},
   "outputs": [],
   "source": []
  }
 ],
 "metadata": {
  "kernelspec": {
   "display_name": "Python 3 (ipykernel)",
   "language": "python",
   "name": "python3"
  },
  "language_info": {
   "codemirror_mode": {
    "name": "ipython",
    "version": 3
   },
   "file_extension": ".py",
   "mimetype": "text/x-python",
   "name": "python",
   "nbconvert_exporter": "python",
   "pygments_lexer": "ipython3",
   "version": "3.8.10"
  }
 },
 "nbformat": 4,
 "nbformat_minor": 5
}
